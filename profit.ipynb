{
 "cells": [
  {
   "cell_type": "markdown",
   "metadata": {},
   "source": [
    "class ``profit`` keeps attribute ``cash_at_hand``  \n",
    "when instance initiated, start with 10,000,000 euro cents of ``cash_at_hand``  \n",
    "\n",
    "``self.payment_for_forecast(actual, forecast)`` method checks for how much earned on forecast or how much has to be paid for shortfalls\n",
    "\n",
    "``self.get_cash_at_hand()`` returns current cash  \n",
    "``self.get_profit()`` returns current profit  "
   ]
  },
  {
   "cell_type": "code",
   "execution_count": 60,
   "metadata": {},
   "outputs": [],
   "source": [
    "class profit:\n",
    "    \n",
    "    def __init__(self):\n",
    "        self.cash_at_hand = 10000000\n",
    "\n",
    "    def payment_for_forecast(self, actual, forecast):\n",
    "        \n",
    "        cash_at_hand = self.cash_at_hand\n",
    "        \n",
    "        if actual < forecast:\n",
    "            shortfall = forecast - actual\n",
    "            \n",
    "            kwh_buyable = cash_at_hand / 20\n",
    "            \n",
    "            if kwh_buyable > 0:\n",
    "                \n",
    "                if kwh_buyable >= shortfall:\n",
    "                    cash_at_hand = int(cash_at_hand - shortfall * 20)\n",
    "                    \n",
    "                else:\n",
    "                    kwh_fined = shortfall - kwh_buyable\n",
    "                    \n",
    "                    cash_at_hand = int(-kwh_fined * 100)\n",
    "                    \n",
    "            else:\n",
    "                cash_at_hand = int(cash_at_hand - shortfall * 100)\n",
    "        \n",
    "        else:\n",
    "            cash_at_hand = int(cash_at_hand + forecast * 10)\n",
    "        \n",
    "        self.cash_at_hand = cash_at_hand\n",
    "        \n",
    "    def get_cash_at_hand(self):\n",
    "        return self.cash_at_hand\n",
    "\n",
    "    def get_profit(self):\n",
    "        return self.cash_at_hand - 10000000"
   ]
  },
  {
   "cell_type": "markdown",
   "metadata": {},
   "source": [
    "## Some Testing Below"
   ]
  },
  {
   "cell_type": "code",
   "execution_count": 70,
   "metadata": {},
   "outputs": [],
   "source": [
    "x = profit()"
   ]
  },
  {
   "cell_type": "code",
   "execution_count": 71,
   "metadata": {},
   "outputs": [
    {
     "data": {
      "text/plain": [
       "-100"
      ]
     },
     "execution_count": 71,
     "metadata": {},
     "output_type": "execute_result"
    }
   ],
   "source": [
    "x.payment_for_forecast(500, 500501)\n",
    "x.get_cash_at_hand()"
   ]
  },
  {
   "cell_type": "code",
   "execution_count": 72,
   "metadata": {},
   "outputs": [
    {
     "data": {
      "text/plain": [
       "-10000100"
      ]
     },
     "execution_count": 72,
     "metadata": {},
     "output_type": "execute_result"
    }
   ],
   "source": [
    "x.get_profit()"
   ]
  },
  {
   "cell_type": "code",
   "execution_count": null,
   "metadata": {},
   "outputs": [],
   "source": []
  }
 ],
 "metadata": {
  "kernelspec": {
   "display_name": "Python 3",
   "language": "python",
   "name": "python3"
  },
  "language_info": {
   "codemirror_mode": {
    "name": "ipython",
    "version": 3
   },
   "file_extension": ".py",
   "mimetype": "text/x-python",
   "name": "python",
   "nbconvert_exporter": "python",
   "pygments_lexer": "ipython3",
   "version": "3.8.5"
  }
 },
 "nbformat": 4,
 "nbformat_minor": 4
}
